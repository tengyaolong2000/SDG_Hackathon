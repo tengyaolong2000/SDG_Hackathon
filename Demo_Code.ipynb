{
  "nbformat": 4,
  "nbformat_minor": 0,
  "metadata": {
    "colab": {
      "name": "Telegram_Code.ipynb",
      "provenance": [],
      "include_colab_link": true
    },
    "kernelspec": {
      "name": "python3",
      "display_name": "Python 3"
    },
    "language_info": {
      "name": "python"
    }
  },
  "cells": [
    {
      "cell_type": "markdown",
      "metadata": {
        "id": "view-in-github",
        "colab_type": "text"
      },
      "source": [
        "<a href=\"https://colab.research.google.com/github/tengyaolong2000/SDG_Hackathon/blob/main/Demo_Code.ipynb\" target=\"_parent\"><img src=\"https://colab.research.google.com/assets/colab-badge.svg\" alt=\"Open In Colab\"/></a>"
      ]
    },
    {
      "cell_type": "markdown",
      "source": [
        "# Importing the model"
      ],
      "metadata": {
        "id": "GpydOU6YBXiT"
      }
    },
    {
      "cell_type": "code",
      "source": [
        "!pip install python-telegram-bot --upgrade"
      ],
      "metadata": {
        "colab": {
          "base_uri": "https://localhost:8080/",
          "height": 660
        },
        "id": "bYsV6y6quJrQ",
        "outputId": "b4f1b527-3916-4a33-cd3c-ed1b984a65b1"
      },
      "execution_count": 2,
      "outputs": [
        {
          "output_type": "stream",
          "name": "stdout",
          "text": [
            "Collecting python-telegram-bot\n",
            "  Downloading python_telegram_bot-13.11-py3-none-any.whl (497 kB)\n",
            "\u001b[K     |████████████████████████████████| 497 kB 5.0 MB/s \n",
            "\u001b[?25hCollecting tornado>=6.1\n",
            "  Downloading tornado-6.1-cp37-cp37m-manylinux2010_x86_64.whl (428 kB)\n",
            "\u001b[K     |████████████████████████████████| 428 kB 55.0 MB/s \n",
            "\u001b[?25hCollecting cachetools==4.2.2\n",
            "  Downloading cachetools-4.2.2-py3-none-any.whl (11 kB)\n",
            "Collecting APScheduler==3.6.3\n",
            "  Downloading APScheduler-3.6.3-py2.py3-none-any.whl (58 kB)\n",
            "\u001b[K     |████████████████████████████████| 58 kB 6.0 MB/s \n",
            "\u001b[?25hRequirement already satisfied: pytz>=2018.6 in /usr/local/lib/python3.7/dist-packages (from python-telegram-bot) (2022.1)\n",
            "Requirement already satisfied: certifi in /usr/local/lib/python3.7/dist-packages (from python-telegram-bot) (2021.10.8)\n",
            "Requirement already satisfied: tzlocal>=1.2 in /usr/local/lib/python3.7/dist-packages (from APScheduler==3.6.3->python-telegram-bot) (1.5.1)\n",
            "Requirement already satisfied: six>=1.4.0 in /usr/local/lib/python3.7/dist-packages (from APScheduler==3.6.3->python-telegram-bot) (1.15.0)\n",
            "Requirement already satisfied: setuptools>=0.7 in /usr/local/lib/python3.7/dist-packages (from APScheduler==3.6.3->python-telegram-bot) (57.4.0)\n",
            "Installing collected packages: tornado, cachetools, APScheduler, python-telegram-bot\n",
            "  Attempting uninstall: tornado\n",
            "    Found existing installation: tornado 5.1.1\n",
            "    Uninstalling tornado-5.1.1:\n",
            "      Successfully uninstalled tornado-5.1.1\n",
            "  Attempting uninstall: cachetools\n",
            "    Found existing installation: cachetools 4.2.4\n",
            "    Uninstalling cachetools-4.2.4:\n",
            "      Successfully uninstalled cachetools-4.2.4\n",
            "\u001b[31mERROR: pip's dependency resolver does not currently take into account all the packages that are installed. This behaviour is the source of the following dependency conflicts.\n",
            "google-colab 1.0.0 requires tornado~=5.1.0; python_version >= \"3.0\", but you have tornado 6.1 which is incompatible.\u001b[0m\n",
            "Successfully installed APScheduler-3.6.3 cachetools-4.2.2 python-telegram-bot-13.11 tornado-6.1\n"
          ]
        },
        {
          "output_type": "display_data",
          "data": {
            "application/vnd.colab-display-data+json": {
              "pip_warning": {
                "packages": [
                  "tornado"
                ]
              }
            }
          },
          "metadata": {}
        }
      ]
    },
    {
      "cell_type": "code",
      "source": [
        "from google.colab import drive\n",
        "drive.mount('/content/gdrive')\n",
        "\n",
        "from tensorflow.keras.models import load_model\n",
        "import numpy as np\n",
        "import os\n",
        "import matplotlib.pyplot as plt\n",
        "from skimage.util import img_as_float\n",
        "from PIL import Image\n",
        "\n",
        "IMG_DIR = \"/content/gdrive/MyDrive/Hackathon/user_photo.jpg\""
      ],
      "metadata": {
        "id": "dkphgHw85Qgv",
        "colab": {
          "base_uri": "https://localhost:8080/"
        },
        "outputId": "2eec5b44-2d7b-4225-dba1-3160afb0e6d4"
      },
      "execution_count": 1,
      "outputs": [
        {
          "output_type": "stream",
          "name": "stdout",
          "text": [
            "Mounted at /content/gdrive\n"
          ]
        }
      ]
    },
    {
      "cell_type": "markdown",
      "source": [
        "Load the model with trained parameters"
      ],
      "metadata": {
        "id": "s4VwXUOsJQ1l"
      }
    },
    {
      "cell_type": "code",
      "source": [
        "from tensorflow.keras.preprocessing.image import load_img\n",
        "from tensorflow.keras.preprocessing.image import img_to_array\n",
        "from tensorflow.keras.applications.resnet50 import ResNet50\n",
        "from tensorflow.keras.preprocessing import image\n",
        "from tensorflow.keras.applications.resnet50 import preprocess_input\n",
        "from tensorflow.keras.applications.resnet50 import decode_predictions\n",
        "\n",
        "model = ResNet50()"
      ],
      "metadata": {
        "id": "JzF-HiiZ6-wg"
      },
      "execution_count": 13,
      "outputs": []
    },
    {
      "cell_type": "code",
      "source": [
        "def predict():\n",
        "  #myimage = Image.open(IMG_DIR)\n",
        "  myimage = load_img('/content/gdrive/MyDrive/Hackathon/user_photo.jpg', target_size=(224,224))\n",
        "  myimage = img_to_array(myimage)\n",
        "  myimage = myimage.reshape((1,224,224,3))\n",
        "  myimage = preprocess_input(myimage)\n",
        "  myresult = model.predict(myimage)\n",
        "  mylabel = decode_predictions(myresult)\n",
        "  mylabel = mylabel[0][0]\n",
        "  return mylabel[1]\n",
        "\n"
      ],
      "metadata": {
        "id": "59ktQFpR628Y"
      },
      "execution_count": 14,
      "outputs": []
    },
    {
      "cell_type": "markdown",
      "source": [
        "# Creating the Telegram Bot\n"
      ],
      "metadata": {
        "id": "mNseUSR8BdaY"
      }
    },
    {
      "cell_type": "code",
      "source": [
        "from telegram.ext import Updater, CallbackContext, CommandHandler, MessageHandler, Filters\n",
        "from telegram import Update"
      ],
      "metadata": {
        "id": "mX-mgt-jzZaS"
      },
      "execution_count": 15,
      "outputs": []
    },
    {
      "cell_type": "code",
      "execution_count": 16,
      "metadata": {
        "id": "VUowPF0_RpOJ"
      },
      "outputs": [],
      "source": [
        "updater = Updater(token='5113184169:AAEljkEYTaj6PRMTZvEhqV7OLPMWsF36c3U', use_context=True)\n",
        "dispatcher = updater.dispatcher"
      ]
    },
    {
      "cell_type": "code",
      "source": [
        "def start(update: Update, context: CallbackContext):\n",
        "    context.bot.send_message(chat_id=update.effective_chat.id, text=\"Hello! Please send me images of your food!\")\n",
        "\n",
        "start_handler = CommandHandler('start', start)\n",
        "dispatcher.add_handler(start_handler)"
      ],
      "metadata": {
        "id": "UNoTecHzviYd"
      },
      "execution_count": 17,
      "outputs": []
    },
    {
      "cell_type": "code",
      "source": [
        "# Function that is called when a photo is sent\n",
        "# Latest photo is retrieved and sent to the loaded model for prediction\n",
        "# Finally, the returned prediction is sent back to the user\n",
        "\n",
        "def photo(update: Update, context: CallbackContext):\n",
        "    food_dict = {'pizza': '~140 calories per slice', 'banana': '89 calories/100g', 'carbonara': '574 calories/serving'}\n",
        "    context.bot.send_message(chat_id=update.effective_chat.id, text=\"Photo received!\")\n",
        "    photo_file = update.message.photo[-1].get_file()\n",
        "    photo_file.download(IMG_DIR)\n",
        "    output=predict()\n",
        "    context.bot.send_message(chat_id=update.effective_chat.id, text=\"Food Prediction: \" + output)\n",
        "    if output.lower() in food_dict:\n",
        "       context.bot.send_message(chat_id=update.effective_chat.id, text=food_dict[output])\n",
        "\n",
        "\n",
        "\n",
        "\n",
        "photo_handler = MessageHandler(Filters.photo, photo)\n",
        "dispatcher.add_handler(photo_handler)"
      ],
      "metadata": {
        "id": "ZQSo_mn14z9d"
      },
      "execution_count": 18,
      "outputs": []
    },
    {
      "cell_type": "code",
      "source": [
        "updater.start_polling()"
      ],
      "metadata": {
        "id": "wmqDV40cv3mE",
        "colab": {
          "base_uri": "https://localhost:8080/"
        },
        "outputId": "2dd9b342-85ba-43b8-8d70-7eeea0c125e0"
      },
      "execution_count": 19,
      "outputs": [
        {
          "output_type": "execute_result",
          "data": {
            "text/plain": [
              "<queue.Queue at 0x7f25ec34dd50>"
            ]
          },
          "metadata": {},
          "execution_count": 19
        }
      ]
    },
    {
      "cell_type": "code",
      "source": [
        "updater.stop()"
      ],
      "metadata": {
        "id": "Vlmkse9lQgfl"
      },
      "execution_count": 12,
      "outputs": []
    }
  ]
}